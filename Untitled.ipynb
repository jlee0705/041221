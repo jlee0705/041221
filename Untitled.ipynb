{
 "cells": [
  {
   "cell_type": "code",
   "execution_count": null,
   "metadata": {},
   "outputs": [],
   "source": [
    "cnt_a=[]\n",
    "\n",
    "\n",
    "for i in c:\n",
    "    if i in la:\n",
    "        continue\n",
    "    if (max<c.count(i)) :\n",
    "        max=c.count(i)\n",
    "    la.append(i)\n",
    "    ca.append(c.count(i))\n",
    "    \n",
    "    ac=sorted(ca)\n",
    "    ac=reversed(ac)\n",
    "    ac=list(ac)\n",
    "\n",
    "    if(c.count(i)<max):\n",
    "        cnt_a.append(c.count(i))\n",
    "        lst_a.append(i)"
   ]
  }
 ],
 "metadata": {
  "kernelspec": {
   "display_name": "Python 3",
   "language": "python",
   "name": "python3"
  },
  "language_info": {
   "codemirror_mode": {
    "name": "ipython",
    "version": 3
   },
   "file_extension": ".py",
   "mimetype": "text/x-python",
   "name": "python",
   "nbconvert_exporter": "python",
   "pygments_lexer": "ipython3",
   "version": "3.8.5"
  }
 },
 "nbformat": 4,
 "nbformat_minor": 4
}
